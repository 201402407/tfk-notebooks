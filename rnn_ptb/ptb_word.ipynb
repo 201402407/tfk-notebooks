{
 "cells": [
  {
   "cell_type": "code",
   "execution_count": 1,
   "metadata": {
    "collapsed": false
   },
   "outputs": [],
   "source": [
    "import time\n",
    "import numpy as np\n",
    "import tensorflow as tf\n",
    "from tensorflow.python.ops.rnn_cell import BasicLSTMCell, MultiRNNCell, DropoutWrapper\n",
    "\n",
    "from tensorflow.models.rnn.ptb import reader"
   ]
  },
  {
   "cell_type": "markdown",
   "metadata": {},
   "source": [
    "Small Config 정보를 사용합니다."
   ]
  },
  {
   "cell_type": "code",
   "execution_count": 2,
   "metadata": {
    "collapsed": true
   },
   "outputs": [],
   "source": [
    "class SmallConfig(object):\n",
    "    \"\"\"Small config.\"\"\"\n",
    "    init_scale = 0.1\n",
    "    learning_rate = 1.0\n",
    "    max_grad_norm = 5\n",
    "    num_layers = 2\n",
    "    num_steps = 20\n",
    "    hidden_size = 200\n",
    "    max_epoch = 4\n",
    "    max_max_epoch = 13\n",
    "    keep_prob = 1.0\n",
    "    lr_decay = 0.5\n",
    "    batch_size = 20\n",
    "    vocab_size = 10000"
   ]
  },
  {
   "cell_type": "markdown",
   "metadata": {},
   "source": [
    "트레이닝과 테스트에 사용할 두개의 config 오브젝트를 만듭니다."
   ]
  },
  {
   "cell_type": "code",
   "execution_count": 3,
   "metadata": {
    "collapsed": true
   },
   "outputs": [],
   "source": [
    "config = SmallConfig()\n",
    "eval_config = SmallConfig()\n",
    "eval_config.batch_size = 1\n",
    "eval_config.num_steps = 1"
   ]
  },
  {
   "cell_type": "markdown",
   "metadata": {},
   "source": [
    "PTB 모델을 만들어 주는 클래스를 작성합니다."
   ]
  },
  {
   "cell_type": "code",
   "execution_count": 10,
   "metadata": {
    "collapsed": true
   },
   "outputs": [],
   "source": [
    "class PTBModel(object):\n",
    "    \"\"\"The PTB model.\"\"\"\n",
    "\n",
    "    def __init__(self, config, is_training=False):\n",
    "        self.batch_size = config.batch_size\n",
    "        self.num_steps = config.num_steps\n",
    "        input_size = [config.batch_size, config.num_steps]\n",
    "        self.input_data = tf.placeholder(tf.int32, input_size)\n",
    "        self.targets = tf.placeholder(tf.int32, input_size)\n",
    "\n",
    "        lstm_cell = BasicLSTMCell(config.hidden_size, forget_bias=0.0, state_is_tuple=True)\n",
    "        if is_training and config.keep_prob < 1:\n",
    "            lstm_cell = DropoutWrapper(lstm_cell, config.keep_prob)\n",
    "        cell = MultiRNNCell([lstm_cell] * config.num_layers, state_is_tuple=True)\n",
    "\n",
    "        self.initial_state = cell.zero_state(config.batch_size, tf.float32)\n",
    "\n",
    "        with tf.device(\"/cpu:0\"):\n",
    "            embedding_size = [config.vocab_size, config.hidden_size]\n",
    "            embedding = tf.get_variable(\"embedding\", embedding_size)\n",
    "            inputs = tf.nn.embedding_lookup(embedding, self.input_data)\n",
    "\n",
    "        if is_training and config.keep_prob < 1:\n",
    "            inputs = tf.nn.dropout(inputs, config.keep_prob)\n",
    "\n",
    "        outputs = []\n",
    "        state = self.initial_state\n",
    "        with tf.variable_scope(\"RNN\"):\n",
    "            for time_step in range(config.num_steps):\n",
    "                if time_step > 0: tf.get_variable_scope().reuse_variables()\n",
    "                (cell_output, state) = cell(inputs[:, time_step, :], state)\n",
    "                outputs.append(cell_output)\n",
    "\n",
    "        output = tf.reshape(tf.concat(1, outputs), [-1, config.hidden_size])\n",
    "        softmax_w_size = [config.hidden_size, config.vocab_size]\n",
    "        softmax_w = tf.get_variable(\"softmax_w\", softmax_w_size)\n",
    "        softmax_b = tf.get_variable(\"softmax_b\", [config.vocab_size])\n",
    "        logits = tf.matmul(output, softmax_w) + softmax_b\n",
    "    \n",
    "        loss = tf.nn.seq2seq.sequence_loss_by_example(\n",
    "            [logits],\n",
    "            [tf.reshape(self.targets, [-1])],\n",
    "            [tf.ones([config.batch_size * config.num_steps])])\n",
    "        self.cost = tf.reduce_sum(loss) / config.batch_size\n",
    "        self.final_state = state\n",
    "\n",
    "        if not is_training:\n",
    "            return\n",
    "\n",
    "        self.lr = tf.Variable(0.0, trainable=False)\n",
    "        tvars = tf.trainable_variables()\n",
    "        grads, _ = tf.clip_by_global_norm(tf.gradients(self.cost, tvars),\n",
    "                                          config.max_grad_norm)\n",
    "        optimizer = tf.train.GradientDescentOptimizer(self.lr)\n",
    "        self.train_op = optimizer.apply_gradients(zip(grads, tvars))\n",
    "\n",
    "    def assign_lr(self, session, lr_value):\n",
    "        session.run(tf.assign(self.lr, lr_value))"
   ]
  },
  {
   "cell_type": "markdown",
   "metadata": {},
   "source": [
    "에포크를 처리할 함수를 만듭니다."
   ]
  },
  {
   "cell_type": "code",
   "execution_count": 11,
   "metadata": {
    "collapsed": false
   },
   "outputs": [],
   "source": [
    "def run_epoch(session, m, data, is_training=False):\n",
    "    \"\"\"Runs the model on the given data.\"\"\"\n",
    "    epoch_size = ((len(data) // m.batch_size) - 1) // m.num_steps\n",
    "    start_time = time.time()\n",
    "    costs = 0.0\n",
    "    iters = 0\n",
    "    \n",
    "    eval_op = m.train_op if is_training else tf.no_op()\n",
    "    \n",
    "    state_list = []\n",
    "    for c, h in m.initial_state:\n",
    "        state_list.extend([c.eval(), h.eval()])\n",
    "    \n",
    "    ptb_iter = reader.ptb_iterator(data, m.batch_size, m.num_steps)\n",
    "    for step, (x, y) in enumerate(ptb_iter):\n",
    "        fetch_list = [m.cost]\n",
    "        for c, h in m.final_state:\n",
    "            fetch_list.extend([c, h])\n",
    "        fetch_list.append(eval_op)\n",
    "        \n",
    "        feed_dict = {m.input_data: x, m.targets: y}\n",
    "        for i in range(len(m.initial_state)):\n",
    "            c, h = m.initial_state[i]\n",
    "            feed_dict[c], feed_dict[h] = state_list[i*2:(i+1)*2]\n",
    "        \n",
    "        cost, *state_list, _ = session.run(fetch_list, feed_dict)\n",
    "\n",
    "        costs += cost\n",
    "        iters += m.num_steps\n",
    "\n",
    "        if is_training and step % (epoch_size // 10) == 10:\n",
    "            print(\"%.3f perplexity: %.3f speed: %.0f wps\" %\n",
    "                    (step * 1.0 / epoch_size, np.exp(costs / iters),\n",
    "                     iters * m.batch_size / (time.time() - start_time)))\n",
    "\n",
    "    return np.exp(costs / iters)"
   ]
  },
  {
   "cell_type": "code",
   "execution_count": 6,
   "metadata": {
    "collapsed": false
   },
   "outputs": [],
   "source": [
    "raw_data = reader.ptb_raw_data('simple-examples/data')\n",
    "train_data, valid_data, test_data, _ = raw_data"
   ]
  },
  {
   "cell_type": "markdown",
   "metadata": {},
   "source": [
    "train_data, valid_data, test_data 는 단어를 숫자로 바꾼 리스트입니다.  \n",
    "가장 많이 나온 단어 순으로 0번 부터 시작하여 10000번 까지의 번호를 가지고 있습니다."
   ]
  },
  {
   "cell_type": "markdown",
   "metadata": {},
   "source": [
    "에포크 함수를 수정하여 테스트하기 위한 코드 "
   ]
  },
  {
   "cell_type": "code",
   "execution_count": 13,
   "metadata": {
    "collapsed": false
   },
   "outputs": [
    {
     "name": "stdout",
     "output_type": "stream",
     "text": [
      "Epoch: 1 Learning rate: 1.000\n",
      "0.004 perplexity: 5232.586 speed: 1580 wps\n",
      "0.104 perplexity: 839.170 speed: 1708 wps\n",
      "0.204 perplexity: 623.402 speed: 1731 wps\n",
      "0.304 perplexity: 505.074 speed: 1737 wps\n",
      "0.404 perplexity: 435.679 speed: 1706 wps\n",
      "0.504 perplexity: 390.194 speed: 1698 wps\n",
      "0.604 perplexity: 351.442 speed: 1695 wps\n",
      "0.703 perplexity: 324.703 speed: 1693 wps\n",
      "0.803 perplexity: 303.556 speed: 1684 wps\n",
      "0.903 perplexity: 284.134 speed: 1674 wps\n",
      "Epoch: 1 Train Perplexity: 269.719\n",
      "Epoch: 1 Valid Perplexity: 179.618\n",
      "Test Perplexity: 177.680\n"
     ]
    }
   ],
   "source": [
    "with tf.Graph().as_default(), tf.Session() as session:\n",
    "    initializer = tf.random_uniform_initializer(-config.init_scale, config.init_scale)\n",
    "\n",
    "    with tf.variable_scope(\"model\", reuse=None, initializer=initializer):\n",
    "        m = PTBModel(config, is_training=True)\n",
    "    with tf.variable_scope(\"model\", reuse=True, initializer=initializer):\n",
    "        mvalid = PTBModel(config)\n",
    "        mtest = PTBModel(eval_config)\n",
    "        \n",
    "    tf.initialize_all_variables().run()\n",
    "    \n",
    "    for i in range(config.max_max_epoch):\n",
    "        lr_decay = config.lr_decay ** max(i - config.max_epoch, 0.0)\n",
    "        m.assign_lr(session, config.learning_rate * lr_decay)\n",
    "        print(\"Epoch: %d Learning rate: %.3f\" % (i + 1, session.run(m.lr)))\n",
    "        \n",
    "        perplexity = run_epoch(session, m, train_data, is_training=True)\n",
    "        print(\"Epoch: %d Train Perplexity: %.3f\" % (i + 1, perplexity))\n",
    "\n",
    "        perplexity = run_epoch(session, mvalid, valid_data)\n",
    "        print(\"Epoch: %d Valid Perplexity: %.3f\" % (i + 1, perplexity))\n",
    "\n",
    "    perplexity = run_epoch(session, mtest, test_data)\n",
    "    print(\"Test Perplexity: %.3f\" % perplexity)"
   ]
  },
  {
   "cell_type": "code",
   "execution_count": null,
   "metadata": {
    "collapsed": true
   },
   "outputs": [],
   "source": []
  }
 ],
 "metadata": {
  "kernelspec": {
   "display_name": "Python 3",
   "language": "python",
   "name": "python3"
  },
  "language_info": {
   "codemirror_mode": {
    "name": "ipython",
    "version": 3
   },
   "file_extension": ".py",
   "mimetype": "text/x-python",
   "name": "python",
   "nbconvert_exporter": "python",
   "pygments_lexer": "ipython3",
   "version": "3.5.2"
  }
 },
 "nbformat": 4,
 "nbformat_minor": 0
}
